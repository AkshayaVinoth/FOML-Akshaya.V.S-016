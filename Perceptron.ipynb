{
  "cells": [
    {
      "cell_type": "code",
      "execution_count": null,
      "metadata": {
        "id": "7aZN9mCnCXMs"
      },
      "outputs": [],
      "source": [
        "  import numpy as np\n"
      ]
    },
    {
      "cell_type": "code",
      "execution_count": null,
      "metadata": {
        "id": "onAgKyrKCgRl"
      },
      "outputs": [],
      "source": [
        "X = np.array([[0, 0],\n",
        "              [0, 1],\n",
        "              [1, 0],\n",
        "              [1, 1]])"
      ]
    },
    {
      "cell_type": "code",
      "execution_count": null,
      "metadata": {
        "id": "IruNOeFrConx"
      },
      "outputs": [],
      "source": [
        "Y = np.array([0, 0, 0, 1])"
      ]
    },
    {
      "cell_type": "code",
      "execution_count": null,
      "metadata": {
        "colab": {
          "base_uri": "https://localhost:8080/"
        },
        "id": "qcTjqAXmCosf",
        "outputId": "227e9b2d-5f48-4d91-b1b0-b852e70dfab2"
      },
      "outputs": [
        {
          "output_type": "stream",
          "name": "stdout",
          "text": [
            "Initial weights:[ 0.3 -0.2],theta=0.4,lr=0.2\n",
            "\n"
          ]
        }
      ],
      "source": [
        "w = np.array([0.3, -0.2])\n",
        "theta=0.4\n",
        "lr=0.2\n",
        "epochs=4\n",
        "print(f\"Initial weights:{w},theta={theta},lr={lr}\\n\")"
      ]
    },
    {
      "cell_type": "code",
      "execution_count": null,
      "metadata": {
        "colab": {
          "base_uri": "https://localhost:8080/"
        },
        "id": "8J2SZhX9Cv0j",
        "outputId": "e9d30115-1649-4322-b62c-fc3056c53806"
      },
      "outputs": [
        {
          "output_type": "stream",
          "name": "stdout",
          "text": [
            "---Epoch 1 ---\n",
            "x1\tx2\ty_des\ty_est\terror\tw1\tw2\n",
            "0\t0\t0\t1\t-1\t0.3\t-0.2\n",
            "0\t1\t0\t1\t-1\t0.3\t-0.4\n",
            "1\t0\t0\t1\t-1\t0.1\t-0.4\n",
            "1\t1\t1\t1\t0\t0.1\t-0.4\n",
            "---Epoch 2 ---\n",
            "x1\tx2\ty_des\ty_est\terror\tw1\tw2\n",
            "0\t0\t0\t1\t-1\t0.1\t-0.4\n",
            "0\t1\t0\t1\t-1\t0.1\t-0.6\n",
            "1\t0\t0\t1\t-1\t-0.1\t-0.6\n",
            "1\t1\t1\t0\t1\t0.1\t-0.4\n",
            "---Epoch 3 ---\n",
            "x1\tx2\ty_des\ty_est\terror\tw1\tw2\n",
            "0\t0\t0\t1\t-1\t0.1\t-0.4\n",
            "0\t1\t0\t0\t0\t0.1\t-0.4\n",
            "1\t0\t0\t1\t-1\t-0.1\t-0.4\n",
            "1\t1\t1\t0\t1\t0.1\t-0.2\n",
            "---Epoch 4 ---\n",
            "x1\tx2\ty_des\ty_est\terror\tw1\tw2\n",
            "0\t0\t0\t1\t-1\t0.1\t-0.2\n",
            "0\t1\t0\t1\t-1\t0.1\t-0.4\n",
            "1\t0\t0\t1\t-1\t-0.1\t-0.4\n",
            "1\t1\t1\t0\t1\t0.1\t-0.2\n"
          ]
        }
      ],
      "source": [
        "for epoch in range(1, epochs+1):\n",
        "  print(f\"---Epoch {epoch} ---\")\n",
        "  print(f\"x1\\tx2\\ty_des\\ty_est\\terror\\tw1\\tw2\")\n",
        "  error_count = 0\n",
        "  for i in range(len(X)):\n",
        "    x=X[i]\n",
        "    y_des=Y[i]\n",
        "\n",
        "    net = np.dot(x, w) + theta\n",
        "    y_est=1 if net>=0 else 0\n",
        "    error = y_des-y_est\n",
        "    if error != 0:\n",
        "      w = w + lr * error * x\n",
        "      error_count += 1\n",
        "    print(f\"{x[0]}\\t{x[1]}\\t{y_des}\\t{y_est}\\t{error}\\t{w[0]:.1f}\\t{w[1]:.1f}\")\n",
        "\n",
        "  if error_count == 0:\n",
        "    print(\"\\nTraining complete!\")\n",
        "    break"
      ]
    },
    {
      "cell_type": "code",
      "source": [
        "print(\"\\nFinal perceptron outputs:\")\n",
        "for i in range(len(X)):\n",
        "  x=X[i]\n",
        "  net = np.dot(x, w) + theta\n",
        "  y_est=1 if net>=0 else 0\n",
        "  print(f\"Input {x}->Net={round(net,1)},Yest={y_est},Ydes={Y[i]}\")\n"
      ],
      "metadata": {
        "colab": {
          "base_uri": "https://localhost:8080/"
        },
        "id": "TXAIFciizwVy",
        "outputId": "27483fa0-906f-459d-f83f-56031496b5e1"
      },
      "execution_count": null,
      "outputs": [
        {
          "output_type": "stream",
          "name": "stdout",
          "text": [
            "\n",
            "Final perceptron outputs:\n",
            "Input [0 0]->Net=0.4,Yest=1,Ydes=0\n",
            "Input [0 1]->Net=0.2,Yest=1,Ydes=0\n",
            "Input [1 0]->Net=0.5,Yest=1,Ydes=0\n",
            "Input [1 1]->Net=0.3,Yest=1,Ydes=1\n"
          ]
        }
      ]
    }
  ],
  "metadata": {
    "colab": {
      "provenance": []
    },
    "kernelspec": {
      "display_name": "Python 3",
      "name": "python3"
    },
    "language_info": {
      "name": "python"
    }
  },
  "nbformat": 4,
  "nbformat_minor": 0
}