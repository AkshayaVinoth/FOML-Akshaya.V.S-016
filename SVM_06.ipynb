{
  "nbformat": 4,
  "nbformat_minor": 0,
  "metadata": {
    "colab": {
      "provenance": []
    },
    "kernelspec": {
      "name": "python3",
      "display_name": "Python 3"
    },
    "language_info": {
      "name": "python"
    }
  },
  "cells": [
    {
      "cell_type": "code",
      "execution_count": 52,
      "metadata": {
        "colab": {
          "base_uri": "https://localhost:8080/"
        },
        "id": "8WRMZyrw10Zj",
        "outputId": "f321c84e-a4f9-44d8-8325-ca7eda1f04df"
      },
      "outputs": [
        {
          "output_type": "stream",
          "name": "stdout",
          "text": [
            "Drive already mounted at /content/drive; to attempt to forcibly remount, call drive.mount(\"/content/drive\", force_remount=True).\n"
          ]
        }
      ],
      "source": [
        "from google.colab import drive\n",
        "drive.mount('/content/drive')"
      ]
    },
    {
      "cell_type": "code",
      "source": [
        "import pandas as pd\n",
        "import numpy as np\n",
        "import matplotlib.pyplot as plt\n",
        "import seaborn as sns\n",
        "from sklearn.model_selection import train_test_split, cross_val_score, StratifiedKFold\n",
        "from sklearn.preprocessing import LabelEncoder, StandardScaler\n",
        "from sklearn.metrics import confusion_matrix, classification_report, accuracy_score, precision_score, recall_score, f1_score\n",
        "from sklearn.svm import SVC"
      ],
      "metadata": {
        "id": "T2OLxJRH15bs"
      },
      "execution_count": 53,
      "outputs": []
    },
    {
      "cell_type": "code",
      "source": [
        "file_path = '/content/drive/MyDrive/MACHINE LEARNING/ObesityDataSet_raw_and_data_sinthetic.csv'\n",
        "df = pd.read_csv(file_path)"
      ],
      "metadata": {
        "id": "-tUFYQmP15ec"
      },
      "execution_count": 54,
      "outputs": []
    },
    {
      "cell_type": "code",
      "source": [
        "print(df.head())"
      ],
      "metadata": {
        "colab": {
          "base_uri": "https://localhost:8080/"
        },
        "id": "yIvVEG5v15hB",
        "outputId": "d2db772d-15ad-4fd8-cc40-ab8705630aed"
      },
      "execution_count": 55,
      "outputs": [
        {
          "output_type": "stream",
          "name": "stdout",
          "text": [
            "   Gender   Age  Height  Weight family_history_with_overweight FAVC  FCVC  \\\n",
            "0  Female  21.0    1.62    64.0                            yes   no   2.0   \n",
            "1  Female  21.0    1.52    56.0                            yes   no   3.0   \n",
            "2    Male  23.0    1.80    77.0                            yes   no   2.0   \n",
            "3    Male  27.0    1.80    87.0                             no   no   3.0   \n",
            "4    Male  22.0    1.78    89.8                             no   no   2.0   \n",
            "\n",
            "   NCP       CAEC SMOKE  CH2O  SCC  FAF  TUE        CALC  \\\n",
            "0  3.0  Sometimes    no   2.0   no  0.0  1.0          no   \n",
            "1  3.0  Sometimes   yes   3.0  yes  3.0  0.0   Sometimes   \n",
            "2  3.0  Sometimes    no   2.0   no  2.0  1.0  Frequently   \n",
            "3  3.0  Sometimes    no   2.0   no  2.0  0.0  Frequently   \n",
            "4  1.0  Sometimes    no   2.0   no  0.0  0.0   Sometimes   \n",
            "\n",
            "                  MTRANS           NObeyesdad  \n",
            "0  Public_Transportation        Normal_Weight  \n",
            "1  Public_Transportation        Normal_Weight  \n",
            "2  Public_Transportation        Normal_Weight  \n",
            "3                Walking   Overweight_Level_I  \n",
            "4  Public_Transportation  Overweight_Level_II  \n"
          ]
        }
      ]
    },
    {
      "cell_type": "code",
      "source": [
        "print(df.columns.tolist())\n"
      ],
      "metadata": {
        "colab": {
          "base_uri": "https://localhost:8080/"
        },
        "id": "F_21QVqk4EOk",
        "outputId": "290ccd5d-9e66-4bbe-ec4d-c8fdb75d5778"
      },
      "execution_count": 56,
      "outputs": [
        {
          "output_type": "stream",
          "name": "stdout",
          "text": [
            "['Gender', 'Age', 'Height', 'Weight', 'family_history_with_overweight', 'FAVC', 'FCVC', 'NCP', 'CAEC', 'SMOKE', 'CH2O', 'SCC', 'FAF', 'TUE', 'CALC', 'MTRANS', 'NObeyesdad']\n"
          ]
        }
      ]
    },
    {
      "cell_type": "code",
      "source": [
        "X = df.drop(\"NObeyesdad\", axis=1)\n",
        "y = df[\"NObeyesdad\"]\n",
        "\n",
        "\n"
      ],
      "metadata": {
        "id": "y5wY03UH15je"
      },
      "execution_count": 57,
      "outputs": []
    },
    {
      "cell_type": "code",
      "source": [
        "le = LabelEncoder()\n",
        "for col in X.select_dtypes(include=['object']).columns:\n",
        "    X[col] = le.fit_transform(X[col])\n",
        "y = le.fit_transform(y)"
      ],
      "metadata": {
        "id": "48N4x2Oo15mC"
      },
      "execution_count": 58,
      "outputs": []
    },
    {
      "cell_type": "code",
      "source": [
        "X_train, X_test, y_train, y_test = train_test_split(X, y, test_size=0.2, random_state=42)"
      ],
      "metadata": {
        "id": "RClHxV9B15oZ"
      },
      "execution_count": 59,
      "outputs": []
    },
    {
      "cell_type": "code",
      "source": [
        "scaler = StandardScaler()\n",
        "X_train = scaler.fit_transform(X_train)\n",
        "X_test = scaler.transform(X_test)"
      ],
      "metadata": {
        "id": "ttlAuEpk15qv"
      },
      "execution_count": 60,
      "outputs": []
    },
    {
      "cell_type": "code",
      "source": [
        "def evaluate_model(model, X_test, y_test):\n",
        "    y_pred = model.predict(X_test)\n",
        "    cm = confusion_matrix(y_test, y_pred)\n",
        "    acc = accuracy_score(y_test, y_pred)\n",
        "    prec = precision_score(y_test, y_pred, average='weighted', zero_division=0)\n",
        "    rec = recall_score(y_test, y_pred, average='weighted')\n",
        "    f1 = f1_score(y_test, y_pred, average='weighted')\n",
        "\n",
        "    print(\"\\nConfusion Matrix:\\n\", cm)\n",
        "    print(f\"Accuracy : {acc:.4f}\")\n",
        "    print(f\"Precision: {prec:.4f}\")\n",
        "    print(f\"Recall   : {rec:.4f}\")\n",
        "    print(f\"F1 Score : {f1:.4f}\")\n",
        "\n",
        "    return acc, prec, rec, f1"
      ],
      "metadata": {
        "id": "0AGzGyYnM7Ka"
      },
      "execution_count": 61,
      "outputs": []
    },
    {
      "cell_type": "code",
      "source": [
        "svm_rbf = SVC(kernel='rbf', C=1.0, gamma='scale')\n",
        "svm_rbf.fit(X_train, y_train)\n",
        "\n",
        "print(\"\\n--- Results for RBF Kernel ---\")\n",
        "acc_rbf, prec_rbf, rec_rbf, f1_rbf = evaluate_model(svm_rbf, X_test, y_test)"
      ],
      "metadata": {
        "colab": {
          "base_uri": "https://localhost:8080/"
        },
        "id": "Cr7dcaZrM7N0",
        "outputId": "609b9718-98df-434d-d45c-802b8b31d9ca"
      },
      "execution_count": 62,
      "outputs": [
        {
          "output_type": "stream",
          "name": "stdout",
          "text": [
            "\n",
            "--- Results for RBF Kernel ---\n",
            "\n",
            "Confusion Matrix:\n",
            " [[52  4  0  0  0  0  0]\n",
            " [ 3 52  1  0  0  4  2]\n",
            " [ 0  0 70  4  0  2  2]\n",
            " [ 0  0  1 57  0  0  0]\n",
            " [ 0  0  0  0 63  0  0]\n",
            " [ 1 12  0  0  0 41  2]\n",
            " [ 0  2  2  0  0  5 41]]\n",
            "Accuracy : 0.8889\n",
            "Precision: 0.8908\n",
            "Recall   : 0.8889\n",
            "F1 Score : 0.8890\n"
          ]
        }
      ]
    },
    {
      "cell_type": "code",
      "source": [
        "kernels = ['linear', 'poly', 'rbf', 'sigmoid']\n",
        "results = []\n",
        "\n",
        "print(\"\\n--- Comparing Different Kernels ---\")\n",
        "for k in kernels:\n",
        "    print(f\"\\nKernel = {k}\")\n",
        "    svm = SVC(kernel=k, C=1.0, gamma='scale')\n",
        "    svm.fit(X_train, y_train)\n",
        "    acc, prec, rec, f1 = evaluate_model(svm, X_test, y_test)\n",
        "    results.append([k, acc, prec, rec, f1])\n"
      ],
      "metadata": {
        "colab": {
          "base_uri": "https://localhost:8080/"
        },
        "collapsed": true,
        "id": "hE06YULzNGc5",
        "outputId": "3923a0c0-8829-47b8-dadf-d159fc79c6c6"
      },
      "execution_count": 63,
      "outputs": [
        {
          "output_type": "stream",
          "name": "stdout",
          "text": [
            "\n",
            "--- Comparing Different Kernels ---\n",
            "\n",
            "Kernel = linear\n",
            "\n",
            "Confusion Matrix:\n",
            " [[56  0  0  0  0  0  0]\n",
            " [ 5 53  0  0  0  4  0]\n",
            " [ 0  0 75  2  0  0  1]\n",
            " [ 0  0  1 57  0  0  0]\n",
            " [ 0  0  0  0 63  0  0]\n",
            " [ 0  2  0  0  0 52  2]\n",
            " [ 0  0  0  0  0  2 48]]\n",
            "Accuracy : 0.9551\n",
            "Precision: 0.9561\n",
            "Recall   : 0.9551\n",
            "F1 Score : 0.9548\n",
            "\n",
            "Kernel = poly\n",
            "\n",
            "Confusion Matrix:\n",
            " [[54  2  0  0  0  0  0]\n",
            " [ 5 34  4  1  0  9  9]\n",
            " [ 0  0 73  2  0  1  2]\n",
            " [ 0  0  2 56  0  0  0]\n",
            " [ 0  0  0  0 63  0  0]\n",
            " [ 1  6  4  1  0 41  3]\n",
            " [ 0  3 11  0  0  5 31]]\n",
            "Accuracy : 0.8322\n",
            "Precision: 0.8284\n",
            "Recall   : 0.8322\n",
            "F1 Score : 0.8261\n",
            "\n",
            "Kernel = rbf\n",
            "\n",
            "Confusion Matrix:\n",
            " [[52  4  0  0  0  0  0]\n",
            " [ 3 52  1  0  0  4  2]\n",
            " [ 0  0 70  4  0  2  2]\n",
            " [ 0  0  1 57  0  0  0]\n",
            " [ 0  0  0  0 63  0  0]\n",
            " [ 1 12  0  0  0 41  2]\n",
            " [ 0  2  2  0  0  5 41]]\n",
            "Accuracy : 0.8889\n",
            "Precision: 0.8908\n",
            "Recall   : 0.8889\n",
            "F1 Score : 0.8890\n",
            "\n",
            "Kernel = sigmoid\n",
            "\n",
            "Confusion Matrix:\n",
            " [[32 20  0  0  0  4  0]\n",
            " [28 19  0  0  0  8  7]\n",
            " [ 0  1 46 13  0  2 16]\n",
            " [ 0  0 12 46  0  0  0]\n",
            " [ 0  0  0  0 63  0  0]\n",
            " [ 9  7  2  0  0 29  9]\n",
            " [ 3  5  8  2  0  7 25]]\n",
            "Accuracy : 0.6147\n",
            "Precision: 0.6181\n",
            "Recall   : 0.6147\n",
            "F1 Score : 0.6139\n"
          ]
        }
      ]
    },
    {
      "cell_type": "code",
      "source": [
        "results_df = pd.DataFrame(results, columns=['Kernel', 'Accuracy', 'Precision', 'Recall', 'F1'])\n"
      ],
      "metadata": {
        "id": "IinpKU0zNNZx"
      },
      "execution_count": 64,
      "outputs": []
    },
    {
      "cell_type": "code",
      "source": [
        "plt.figure(figsize=(8, 5))\n",
        "sns.barplot(x='Kernel', y='Accuracy', data=results_df, palette='mako')\n",
        "plt.title(\"SVM Accuracy for Different Kernels\")\n",
        "plt.ylabel(\"Accuracy\")\n",
        "plt.xlabel(\"Kernel Type\")\n",
        "plt.show()"
      ],
      "metadata": {
        "colab": {
          "base_uri": "https://localhost:8080/",
          "height": 574
        },
        "id": "GQxQt4XLNNip",
        "outputId": "01a03e6e-9710-4568-8dfb-91b9371bf1dc"
      },
      "execution_count": 65,
      "outputs": [
        {
          "output_type": "stream",
          "name": "stderr",
          "text": [
            "/tmp/ipython-input-3740663360.py:2: FutureWarning: \n",
            "\n",
            "Passing `palette` without assigning `hue` is deprecated and will be removed in v0.14.0. Assign the `x` variable to `hue` and set `legend=False` for the same effect.\n",
            "\n",
            "  sns.barplot(x='Kernel', y='Accuracy', data=results_df, palette='mako')\n"
          ]
        },
        {
          "output_type": "display_data",
          "data": {
            "text/plain": [
              "<Figure size 800x500 with 1 Axes>"
            ],
            "image/png": "[encoded data removed]"
          },
          "metadata": {}
        }
      ]
    },
    {
      "cell_type": "code",
      "source": [
        "cv_df.plot(x='Kernel', y=['Accuracy', 'Precision', 'Recall', 'F1'], kind='bar', figsize=(10,6))\n",
        "plt.title(\"SVM 5-Fold Cross Validation Performance\")\n",
        "plt.ylabel(\"Score\")\n",
        "plt.xlabel(\"Kernel Type\")\n",
        "plt.legend(loc='lower right')\n",
        "plt.show()"
      ],
      "metadata": {
        "colab": {
          "base_uri": "https://localhost:8080/",
          "height": 605
        },
        "id": "Xrv6LTGpOPAq",
        "outputId": "17cda33f-51bd-4ba8-d088-52d8f95499eb"
      },
      "execution_count": 66,
      "outputs": [
        {
          "output_type": "display_data",
          "data": {
            "text/plain": [
              "<Figure size 1000x600 with 1 Axes>"
            ],
            "image/png": "[encoded data removed]"
          },
          "metadata": {}
        }
      ]
    },
    {
      "cell_type": "code",
      "source": [
        "print(\"\\n===== First 5 Support Vectors (RBF Kernel) =====\")\n",
        "print(svm_rbf.support_vectors_[:5])"
      ],
      "metadata": {
        "colab": {
          "base_uri": "https://localhost:8080/"
        },
        "id": "0xsf-KD6ORcR",
        "outputId": "04c63174-7987-4f2e-ebc5-2a348a4e1683"
      },
      "execution_count": 67,
      "outputs": [
        {
          "output_type": "stream",
          "name": "stdout",
          "text": [
            "\n",
            "===== First 5 Support Vectors (RBF Kernel) =====\n",
            "[[-1.01311923 -0.22475032  0.42645498 -1.21575492  0.46961161  0.35508317\n",
            "   1.07671674  0.40151284 -1.79185567 -0.15378783  0.0059325  -0.21412338\n",
            "   1.18621306 -0.95110334  1.41169828  0.50676114]\n",
            " [-1.01311923 -0.06933846 -1.08977027 -1.594309    0.46961161 -2.81624163\n",
            "  -0.7857288   0.40151284  2.39741355 -0.15378783 -0.01014187 -0.21412338\n",
            "  -0.00501225 -1.06947172  1.41169828  0.50676114]\n",
            " [-1.01311923 -0.91331869 -0.14572896 -1.594309   -2.12941922  0.35508317\n",
            "   1.07671674  0.40151284  0.30277894 -0.15378783  1.63076918  4.67020458\n",
            "   1.82919121  1.0611044   1.41169828  0.50676114]\n",
            " [-1.01311923 -0.21824101 -1.10465615 -1.67119416 -2.12941922 -2.81624163\n",
            "   0.61809325  0.16168557 -1.79185567 -0.15378783  0.55867502 -0.21412338\n",
            "   0.72431306 -1.06947172  1.41169828  0.50676114]\n",
            " [ 0.98705066 -0.9761472  -0.02333874 -1.3227063   0.46961161  0.35508317\n",
            "   0.80389268  0.40151284  0.30277894 -0.15378783 -0.01014187 -0.21412338\n",
            "  -0.38565162  1.01995588 -0.52565676  0.50676114]]\n"
          ]
        }
      ]
    }
  ]
}