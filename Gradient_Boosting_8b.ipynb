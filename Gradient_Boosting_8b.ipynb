{
  "nbformat": 4,
  "nbformat_minor": 0,
  "metadata": {
    "colab": {
      "provenance": []
    },
    "kernelspec": {
      "name": "python3",
      "display_name": "Python 3"
    },
    "language_info": {
      "name": "python"
    }
  },
  "cells": [
    {
      "cell_type": "code",
      "execution_count": 1,
      "metadata": {
        "colab": {
          "base_uri": "https://localhost:8080/"
        },
        "id": "ISMxvWRkWqA-",
        "outputId": "b343b005-d881-4f81-d0cc-64eeebf2dac7"
      },
      "outputs": [
        {
          "output_type": "stream",
          "name": "stdout",
          "text": [
            "Mounted at /content/drive\n"
          ]
        }
      ],
      "source": [
        "from google.colab import drive\n",
        "drive.mount('/content/drive')"
      ]
    },
    {
      "cell_type": "code",
      "source": [
        "import numpy as np\n",
        "import pandas as pd\n",
        "import matplotlib.pyplot as plt\n",
        "from sklearn.model_selection import train_test_split\n",
        "from sklearn.preprocessing import StandardScaler, LabelEncoder\n",
        "from sklearn.tree import DecisionTreeRegressor\n",
        "from sklearn.metrics import (\n",
        "    accuracy_score, precision_score, recall_score, f1_score,\n",
        "        roc_auc_score, confusion_matrix, classification_report, roc_curve\n",
        ")\n"
      ],
      "metadata": {
        "id": "XIgcI7NnWqsr"
      },
      "execution_count": 2,
      "outputs": []
    },
    {
      "cell_type": "code",
      "source": [
        "file_path = '/content/drive/MyDrive/MACHINE LEARNING/breast-cancer.csv'\n",
        "df = pd.read_csv(file_path)\n"
      ],
      "metadata": {
        "id": "v-jsBkGTXjTj"
      },
      "execution_count": 3,
      "outputs": []
    },
    {
      "cell_type": "code",
      "source": [
        "target_col = 'diagnosis'"
      ],
      "metadata": {
        "id": "BZN1ZYmpYEvJ"
      },
      "execution_count": 4,
      "outputs": []
    },
    {
      "cell_type": "code",
      "source": [
        "X = df.drop(columns=[target_col])\n",
        "y = df[target_col].astype(str).str.strip().str.lower()\n",
        "le = LabelEncoder()\n",
        "y = le.fit_transform(y)\n",
        "X = X.select_dtypes(include=[np.number])"
      ],
      "metadata": {
        "id": "JvqlPGz0X7M4"
      },
      "execution_count": 5,
      "outputs": []
    },
    {
      "cell_type": "code",
      "source": [
        "\n",
        "X_train, X_test, y_train, y_test = train_test_split(\n",
        "      X, y, test_size=0.3, random_state=42, stratify=y\n",
        ")\n",
        "\n"
      ],
      "metadata": {
        "id": "yl9LlxPFXjgo"
      },
      "execution_count": 6,
      "outputs": []
    },
    {
      "cell_type": "code",
      "source": [
        "scaler = StandardScaler()\n",
        "X_train = scaler.fit_transform(X_train)\n",
        "X_test = scaler.transform(X_test)\n",
        "n_estimators = 100\n",
        "learning_rate = 0.1\n",
        "max_depth = 1"
      ],
      "metadata": {
        "id": "xB9wkaCHYMOh"
      },
      "execution_count": 7,
      "outputs": []
    },
    {
      "cell_type": "code",
      "source": [
        "y_pred_train = np.full(y_train.shape, np.mean(y_train))\n"
      ],
      "metadata": {
        "id": "UP-0GCgMYXFh"
      },
      "execution_count": 8,
      "outputs": []
    },
    {
      "cell_type": "code",
      "source": [
        "for i in range(n_estimators):\n",
        "      # Compute residuals (negative gradient)\n",
        "          residuals = y_train - y_pred_train\n",
        "          tree = DecisionTreeRegressor(max_depth=max_depth, random_state=42)\n",
        "          tree.fit(X_train, residuals)\n",
        "          update = learning_rate * tree.predict(X_train)\n",
        "          y_pred_train += update\n",
        "          if (i + 1) % 10 == 0 or i == 0:\n",
        "            loss = np.mean((y_train - y_pred_train) ** 2)\n",
        "            print(f\"Iteration {i+1}/{n_estimators}, Training MSE: {loss:.4f}\")\n"
      ],
      "metadata": {
        "colab": {
          "base_uri": "https://localhost:8080/"
        },
        "id": "7JRs3tUXYXLq",
        "outputId": "aa2e7e96-ce28-43d4-9846-23b5a0a4e26b"
      },
      "execution_count": 9,
      "outputs": [
        {
          "output_type": "stream",
          "name": "stdout",
          "text": [
            "Iteration 1/100, Training MSE: 0.2016\n",
            "Iteration 10/100, Training MSE: 0.0736\n",
            "Iteration 20/100, Training MSE: 0.0453\n",
            "Iteration 30/100, Training MSE: 0.0381\n",
            "Iteration 40/100, Training MSE: 0.0344\n",
            "Iteration 50/100, Training MSE: 0.0321\n",
            "Iteration 60/100, Training MSE: 0.0304\n",
            "Iteration 70/100, Training MSE: 0.0291\n",
            "Iteration 80/100, Training MSE: 0.0280\n",
            "Iteration 90/100, Training MSE: 0.0272\n",
            "Iteration 100/100, Training MSE: 0.0264\n"
          ]
        }
      ]
    },
    {
      "cell_type": "code",
      "source": [
        "y_pred_test = np.full(y_test.shape, np.mean(y_train))\n",
        "for i in range(n_estimators):\n",
        "    residuals = y_train - y_pred_train  # reuse fitted trees logic\n",
        "    tree = DecisionTreeRegressor(max_depth=max_depth, random_state=42)\n",
        "    tree.fit(X_train, residuals)\n",
        "    y_pred_test += learning_rate * tree.predict(X_test)\n"
      ],
      "metadata": {
        "id": "HwpliVG1Y1pN"
      },
      "execution_count": 10,
      "outputs": []
    },
    {
      "cell_type": "code",
      "source": [
        "y_pred_binary = (y_pred_test >= 0.5).astype(int)\n"
      ],
      "metadata": {
        "id": "Wq87eIQ1Y8qi"
      },
      "execution_count": 11,
      "outputs": []
    },
    {
      "cell_type": "code",
      "source": [
        "print(\"\\n=== Model Evaluation ===\")\n",
        "print(f\"Accuracy:  {accuracy_score(y_test, y_pred_binary):.4f}\")\n",
        "print(f\"Precision: {precision_score(y_test, y_pred_binary, zero_division=0):.4f}\")\n",
        "print(f\"Recall:    {recall_score(y_test, y_pred_binary, zero_division=0):.4f}\")\n",
        "print(f\"F1 Score:  {f1_score(y_test, y_pred_binary, zero_division=0):.4f}\")\n",
        "print(f\"ROC AUC:   {roc_auc_score(y_test, y_pred_binary):.4f}\")\n",
        "\n",
        "print(\"\\nConfusion Matrix:\")\n",
        "print(confusion_matrix(y_test, y_pred_binary))\n",
        "print(\"\\nClassification Report:\")\n",
        "print(classification_report(y_test, y_pred_binary, zero_division=0))\n"
      ],
      "metadata": {
        "colab": {
          "base_uri": "https://localhost:8080/"
        },
        "id": "BvjG6T94Y8tm",
        "outputId": "6078b0c9-0a90-4dae-f979-dedfad19bc46"
      },
      "execution_count": 12,
      "outputs": [
        {
          "output_type": "stream",
          "name": "stdout",
          "text": [
            "\n",
            "=== Model Evaluation ===\n",
            "Accuracy:  0.6257\n",
            "Precision: 0.0000\n",
            "Recall:    0.0000\n",
            "F1 Score:  0.0000\n",
            "ROC AUC:   0.5000\n",
            "\n",
            "Confusion Matrix:\n",
            "[[107   0]\n",
            " [ 64   0]]\n",
            "\n",
            "Classification Report:\n",
            "              precision    recall  f1-score   support\n",
            "\n",
            "           0       0.63      1.00      0.77       107\n",
            "           1       0.00      0.00      0.00        64\n",
            "\n",
            "    accuracy                           0.63       171\n",
            "   macro avg       0.31      0.50      0.38       171\n",
            "weighted avg       0.39      0.63      0.48       171\n",
            "\n"
          ]
        }
      ]
    },
    {
      "cell_type": "code",
      "source": [
        "y_prob = y_pred_test\n",
        "fpr, tpr, _ = roc_curve(y_test, y_prob)\n",
        "plt.figure(figsize=(6, 5))\n",
        "plt.plot(fpr, tpr, label=f\"Gradient Boosting (AUC = {roc_auc_score(y_test, y_prob):.2f})\")\n",
        "plt.plot([0, 1], [0, 1], 'k--', label=\"Random Guess\")\n",
        "plt.xlabel(\"False Positive Rate\")\n",
        "plt.ylabel(\"True Positive Rate\")\n",
        "plt.title(\"ROC Curve - Gradient Boosting Regressor\")\n",
        "plt.legend()\n",
        "plt.grid(True)\n",
        "plt.show()"
      ],
      "metadata": {
        "colab": {
          "base_uri": "https://localhost:8080/",
          "height": 487
        },
        "id": "7bYMx8pPZGVr",
        "outputId": "d84d297f-7ca3-4fd0-923b-d2cf315b84d0"
      },
      "execution_count": 13,
      "outputs": [
        {
          "output_type": "display_data",
          "data": {
            "text/plain": [
              "<Figure size 600x500 with 1 Axes>"
            ],
            "image/png": "[encoded data removed]"
          },
          "metadata": {}
        }
      ]
    }
  ]
}